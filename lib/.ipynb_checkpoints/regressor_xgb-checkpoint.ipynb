{
 "cells": [
  {
   "cell_type": "code",
   "execution_count": 1,
   "metadata": {},
   "outputs": [],
   "source": [
    "# -*-coding:utf-8-*-\n",
    "\n",
    "import matplotlib\n",
    "# matplotlib.use('agg')\n",
    "%matplotlib inline\n",
    "import pandas as pd\n",
    "import numpy as np\n",
    "import matplotlib.pyplot as plt\n",
    "import seaborn as sns\n",
    "import xgboost as xgb\n",
    "import os, shutil, glob, re\n",
    "from collections import Counter\n",
    "import json, time\n",
    "\n",
    "from sklearn.ensemble import AdaBoostRegressor, GradientBoostingRegressor, GradientBoostingRegressor, ExtraTreesRegressor, VotingClassifier, RandomForestRegressor\n",
    "from sklearn.discriminant_analysis import LinearDiscriminantAnalysis\n",
    "from sklearn.linear_model import LogisticRegression\n",
    "from sklearn.neighbors import KNeighborsClassifier\n",
    "from sklearn.tree import DecisionTreeClassifier, DecisionTreeRegressor\n",
    "from sklearn.neural_network import MLPClassifier\n",
    "from sklearn.svm import SVC\n",
    "from sklearn.model_selection import train_test_split\n",
    "from sklearn.model_selection import GridSearchCV, cross_val_score, StratifiedKFold, learning_curve, KFold\n",
    "from sklearn.externals import joblib\n",
    "\n",
    "\n",
    "sns.set(style='white', context='notebook', palette='deep')\n"
   ]
  },
  {
   "cell_type": "code",
   "execution_count": 2,
   "metadata": {
    "scrolled": true
   },
   "outputs": [
    {
     "data": {
      "text/html": [
       "<div>\n",
       "<style scoped>\n",
       "    .dataframe tbody tr th:only-of-type {\n",
       "        vertical-align: middle;\n",
       "    }\n",
       "\n",
       "    .dataframe tbody tr th {\n",
       "        vertical-align: top;\n",
       "    }\n",
       "\n",
       "    .dataframe thead th {\n",
       "        text-align: right;\n",
       "    }\n",
       "</style>\n",
       "<table border=\"1\" class=\"dataframe\">\n",
       "  <thead>\n",
       "    <tr style=\"text-align: right;\">\n",
       "      <th></th>\n",
       "      <th>score</th>\n",
       "      <th>unchanged</th>\n",
       "      <th>deleted</th>\n",
       "      <th>insertedSingle</th>\n",
       "      <th>insertedMulti</th>\n",
       "      <th>deliveryCustomerPhone</th>\n",
       "      <th>deliveryCustomerName</th>\n",
       "      <th>notificationMode</th>\n",
       "      <th>dcProvName</th>\n",
       "      <th>dcCityName</th>\n",
       "      <th>...</th>\n",
       "      <th>insuranceAmount</th>\n",
       "      <th>sameDayRefund</th>\n",
       "      <th>threeDaysRefund</th>\n",
       "      <th>codAmount</th>\n",
       "      <th>accountName</th>\n",
       "      <th>collectionAccount</th>\n",
       "      <th>packageFeeCanvas</th>\n",
       "      <th>deliveryInboundFee</th>\n",
       "      <th>original</th>\n",
       "      <th>fax</th>\n",
       "    </tr>\n",
       "  </thead>\n",
       "  <tbody>\n",
       "    <tr>\n",
       "      <th>0</th>\n",
       "      <td>4.107</td>\n",
       "      <td>11</td>\n",
       "      <td>0</td>\n",
       "      <td>0</td>\n",
       "      <td>0</td>\n",
       "      <td>0</td>\n",
       "      <td>1</td>\n",
       "      <td>0</td>\n",
       "      <td>0</td>\n",
       "      <td>0</td>\n",
       "      <td>...</td>\n",
       "      <td>0</td>\n",
       "      <td>0</td>\n",
       "      <td>0</td>\n",
       "      <td>0</td>\n",
       "      <td>0</td>\n",
       "      <td>0</td>\n",
       "      <td>0</td>\n",
       "      <td>0</td>\n",
       "      <td>0</td>\n",
       "      <td>0</td>\n",
       "    </tr>\n",
       "    <tr>\n",
       "      <th>1</th>\n",
       "      <td>3.449</td>\n",
       "      <td>11</td>\n",
       "      <td>0</td>\n",
       "      <td>0</td>\n",
       "      <td>0</td>\n",
       "      <td>0</td>\n",
       "      <td>1</td>\n",
       "      <td>0</td>\n",
       "      <td>0</td>\n",
       "      <td>0</td>\n",
       "      <td>...</td>\n",
       "      <td>0</td>\n",
       "      <td>0</td>\n",
       "      <td>0</td>\n",
       "      <td>0</td>\n",
       "      <td>0</td>\n",
       "      <td>0</td>\n",
       "      <td>0</td>\n",
       "      <td>0</td>\n",
       "      <td>0</td>\n",
       "      <td>0</td>\n",
       "    </tr>\n",
       "    <tr>\n",
       "      <th>2</th>\n",
       "      <td>4.186</td>\n",
       "      <td>2</td>\n",
       "      <td>0</td>\n",
       "      <td>0</td>\n",
       "      <td>0</td>\n",
       "      <td>0</td>\n",
       "      <td>0</td>\n",
       "      <td>1</td>\n",
       "      <td>0</td>\n",
       "      <td>0</td>\n",
       "      <td>...</td>\n",
       "      <td>0</td>\n",
       "      <td>0</td>\n",
       "      <td>0</td>\n",
       "      <td>0</td>\n",
       "      <td>0</td>\n",
       "      <td>0</td>\n",
       "      <td>0</td>\n",
       "      <td>0</td>\n",
       "      <td>0</td>\n",
       "      <td>0</td>\n",
       "    </tr>\n",
       "    <tr>\n",
       "      <th>3</th>\n",
       "      <td>1.049</td>\n",
       "      <td>2</td>\n",
       "      <td>0</td>\n",
       "      <td>0</td>\n",
       "      <td>0</td>\n",
       "      <td>0</td>\n",
       "      <td>0</td>\n",
       "      <td>1</td>\n",
       "      <td>0</td>\n",
       "      <td>0</td>\n",
       "      <td>...</td>\n",
       "      <td>0</td>\n",
       "      <td>0</td>\n",
       "      <td>0</td>\n",
       "      <td>0</td>\n",
       "      <td>0</td>\n",
       "      <td>0</td>\n",
       "      <td>0</td>\n",
       "      <td>0</td>\n",
       "      <td>0</td>\n",
       "      <td>0</td>\n",
       "    </tr>\n",
       "    <tr>\n",
       "      <th>4</th>\n",
       "      <td>24.041</td>\n",
       "      <td>9</td>\n",
       "      <td>0</td>\n",
       "      <td>0</td>\n",
       "      <td>0</td>\n",
       "      <td>0</td>\n",
       "      <td>0</td>\n",
       "      <td>1</td>\n",
       "      <td>0</td>\n",
       "      <td>0</td>\n",
       "      <td>...</td>\n",
       "      <td>0</td>\n",
       "      <td>0</td>\n",
       "      <td>0</td>\n",
       "      <td>0</td>\n",
       "      <td>0</td>\n",
       "      <td>0</td>\n",
       "      <td>0</td>\n",
       "      <td>0</td>\n",
       "      <td>0</td>\n",
       "      <td>0</td>\n",
       "    </tr>\n",
       "  </tbody>\n",
       "</table>\n",
       "<p>5 rows × 31 columns</p>\n",
       "</div>"
      ],
      "text/plain": [
       "    score  unchanged  deleted  insertedSingle  insertedMulti  \\\n",
       "0   4.107         11        0               0              0   \n",
       "1   3.449         11        0               0              0   \n",
       "2   4.186          2        0               0              0   \n",
       "3   1.049          2        0               0              0   \n",
       "4  24.041          9        0               0              0   \n",
       "\n",
       "   deliveryCustomerPhone  deliveryCustomerName  notificationMode  dcProvName  \\\n",
       "0                      0                     1                 0           0   \n",
       "1                      0                     1                 0           0   \n",
       "2                      0                     0                 1           0   \n",
       "3                      0                     0                 1           0   \n",
       "4                      0                     0                 1           0   \n",
       "\n",
       "   dcCityName ...   insuranceAmount  sameDayRefund  threeDaysRefund  \\\n",
       "0           0 ...                 0              0                0   \n",
       "1           0 ...                 0              0                0   \n",
       "2           0 ...                 0              0                0   \n",
       "3           0 ...                 0              0                0   \n",
       "4           0 ...                 0              0                0   \n",
       "\n",
       "   codAmount  accountName  collectionAccount  packageFeeCanvas  \\\n",
       "0          0            0                  0                 0   \n",
       "1          0            0                  0                 0   \n",
       "2          0            0                  0                 0   \n",
       "3          0            0                  0                 0   \n",
       "4          0            0                  0                 0   \n",
       "\n",
       "   deliveryInboundFee  original  fax  \n",
       "0                   0         0    0  \n",
       "1                   0         0    0  \n",
       "2                   0         0    0  \n",
       "3                   0         0    0  \n",
       "4                   0         0    0  \n",
       "\n",
       "[5 rows x 31 columns]"
      ]
     },
     "execution_count": 2,
     "metadata": {},
     "output_type": "execute_result"
    }
   ],
   "source": [
    "category = 'score'\n",
    "dataset = pd.read_csv('./{0}_train.csv'.format(category))\n",
    "valid_data = pd.read_csv('./{0}_valid.csv'.format(category))\n",
    "\n",
    "dataset.head()"
   ]
  },
  {
   "cell_type": "code",
   "execution_count": 3,
   "metadata": {
    "scrolled": true
   },
   "outputs": [
    {
     "data": {
      "text/plain": [
       "31"
      ]
     },
     "execution_count": 3,
     "metadata": {},
     "output_type": "execute_result"
    }
   ],
   "source": [
    "dataset.columns.tolist()\n",
    "len(dataset.columns.tolist())"
   ]
  },
  {
   "cell_type": "code",
   "execution_count": 4,
   "metadata": {},
   "outputs": [],
   "source": [
    "# dataset['yigaiScore']"
   ]
  },
  {
   "cell_type": "markdown",
   "metadata": {},
   "source": [
    "## Split train and test dataset"
   ]
  },
  {
   "cell_type": "code",
   "execution_count": 5,
   "metadata": {
    "scrolled": true
   },
   "outputs": [
    {
     "data": {
      "text/plain": [
       "30"
      ]
     },
     "execution_count": 5,
     "metadata": {},
     "output_type": "execute_result"
    }
   ],
   "source": [
    "x_train = dataset.iloc[:,1:]\n",
    "y_train = dataset['score']\n",
    "\n",
    "x_valid = valid_data.iloc[:,1:]\n",
    "y_valid = valid_data['score']\n",
    "\n",
    "len(x_train.columns.tolist())"
   ]
  },
  {
   "cell_type": "markdown",
   "metadata": {},
   "source": [
    "### 1. xgboost regressor"
   ]
  },
  {
   "cell_type": "code",
   "execution_count": 6,
   "metadata": {},
   "outputs": [],
   "source": [
    "xgb_model = xgb.XGBRegressor().fit(x_train, y_train)"
   ]
  },
  {
   "cell_type": "markdown",
   "metadata": {},
   "source": [
    "#### 直接预测结果"
   ]
  },
  {
   "cell_type": "code",
   "execution_count": 7,
   "metadata": {},
   "outputs": [
    {
     "data": {
      "text/plain": [
       "0.1282274757598867"
      ]
     },
     "execution_count": 7,
     "metadata": {},
     "output_type": "execute_result"
    }
   ],
   "source": [
    "err_threshold = 1\n",
    "y_pred1 = xgb_model.predict(x_valid)\n",
    "correct_count = 0\n",
    "for t1, t2 in zip(y_valid, y_pred1):\n",
    "    if abs(t1 - t2) <= err_threshold:\n",
    "        correct_count += 1\n",
    "1.0 * correct_count / len(y_pred1)"
   ]
  },
  {
   "cell_type": "markdown",
   "metadata": {
    "collapsed": true
   },
   "source": [
    "####  grid search 调参"
   ]
  },
  {
   "cell_type": "code",
   "execution_count": null,
   "metadata": {},
   "outputs": [
    {
     "name": "stdout",
     "output_type": "stream",
     "text": [
      "Fitting 3 folds for each of 288 candidates, totalling 864 fits\n"
     ]
    },
    {
     "name": "stderr",
     "output_type": "stream",
     "text": [
      "[Parallel(n_jobs=-1)]: Done  34 tasks      | elapsed:  2.2min\n",
      "[Parallel(n_jobs=-1)]: Done 184 tasks      | elapsed: 16.8min\n"
     ]
    }
   ],
   "source": [
    "FLAG_gs = True\n",
    "\n",
    "if FLAG_gs == True:\n",
    "    xgb1 = xgb.XGBRegressor()\n",
    "    parameters = {\n",
    "                  'objective':['reg:linear'],\n",
    "                  'learning_rate': [.01, .03, 0.05, 0.1], #so called `eta` value\n",
    "                  'max_depth': [4, 6, 8],\n",
    "                  'min_child_weight': [4, 6, 10],\n",
    "                  'silent': [1],\n",
    "                  'subsample': [0.7, 0.5],\n",
    "                  'colsample_bytree': [0.7, 0.5],\n",
    "                  'n_estimators': [400, 600]}\n",
    "    xgb_grid = GridSearchCV(xgb1,\n",
    "                            parameters,\n",
    "                            n_jobs = -1,\n",
    "                            verbose=True)\n",
    "    xgb_grid.fit(x_train, y_train)\n",
    "    xgb_best = xgb_grid.best_estimator_\n",
    "\n",
    "    print xgb_grid.best_score_\n",
    "    print xgb_grid.best_params_\n",
    "    \n",
    "else:\n",
    "    # load 已有的模型\n",
    "    xgb_best = joblib.load('./models/{0}_xgb.model'.format(category))\n",
    "    \n",
    "weights = xgb_best.feature_importances_"
   ]
  },
  {
   "cell_type": "code",
   "execution_count": null,
   "metadata": {
    "scrolled": true
   },
   "outputs": [],
   "source": [
    "y_pred2 = xgb_model.predict(x_valid)\n",
    "correct_count = 0\n",
    "for t1, t2 in zip(y_valid, y_pred2):\n",
    "    if abs(t1 - t2) <= err_threshold:\n",
    "        correct_count += 1\n",
    "1.0 * correct_count / len(y_pred2)"
   ]
  },
  {
   "cell_type": "markdown",
   "metadata": {},
   "source": [
    "## Feature importances of the model"
   ]
  },
  {
   "cell_type": "code",
   "execution_count": null,
   "metadata": {},
   "outputs": [],
   "source": [
    "xgb_best = joblib.load('./models/GBC_origin_163_1.model'.format(category))\n",
    "indices = np.argsort(xgb_best.feature_importances_)[::-1]\n",
    "fig, ax = plt.subplots(figsize=(12,12))\n",
    "g = sns.barplot(y=dataset.columns[1:][indices], x=xgb_best.feature_importances_[indices], orient='h', ax=ax)\n",
    "\n",
    "g.set_xlabel('Importance')\n",
    "g.set_ylabel('features')\n",
    "g.set_title(\"xgb_best feature importance\")"
   ]
  },
  {
   "cell_type": "code",
   "execution_count": null,
   "metadata": {
    "scrolled": true
   },
   "outputs": [],
   "source": [
    "g = sns.kdeplot(y_pred2, color=\"Blue\", label='prediction',shade= True)\n",
    "g = sns.kdeplot(y_valid, color=\"Red\", label='test', shade = True)\n",
    "\n",
    "g.set_xlabel(\"Score\")\n",
    "g.set_ylabel(\"Frequency\")\n",
    "g = g.legend()"
   ]
  },
  {
   "cell_type": "markdown",
   "metadata": {},
   "source": [
    "## 保存模型"
   ]
  },
  {
   "cell_type": "code",
   "execution_count": null,
   "metadata": {
    "scrolled": true
   },
   "outputs": [],
   "source": [
    "joblib.dump(xgb_best, './models/guxiang_xgb.model')"
   ]
  },
  {
   "cell_type": "code",
   "execution_count": null,
   "metadata": {},
   "outputs": [],
   "source": []
  }
 ],
 "metadata": {
  "kernelspec": {
   "display_name": "Python 3",
   "language": "python",
   "name": "python3"
  },
  "language_info": {
   "codemirror_mode": {
    "name": "ipython",
    "version": 3
   },
   "file_extension": ".py",
   "mimetype": "text/x-python",
   "name": "python",
   "nbconvert_exporter": "python",
   "pygments_lexer": "ipython3",
   "version": "3.6.4"
  }
 },
 "nbformat": 4,
 "nbformat_minor": 2
}
