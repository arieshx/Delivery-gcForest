{
 "cells": [
  {
   "cell_type": "code",
   "execution_count": 23,
   "metadata": {},
   "outputs": [
    {
     "name": "stdout",
     "output_type": "stream",
     "text": [
      "(11423, 13)\n",
      "0.9964985994397759\n",
      "[8027, 6619, 3869, 5890, 6591, 5728, 8884, 6003, 8387, 8375]\n"
     ]
    },
    {
     "data": {
      "text/plain": [
       "['./models/GBC_origin_164_1_py3.model']"
      ]
     },
     "execution_count": 23,
     "metadata": {},
     "output_type": "execute_result"
    }
   ],
   "source": [
    "\"\"\"\n",
    "分开对每一种图训练一个分类树\n",
    "\"\"\"\n",
    "import pandas as pd\n",
    "from sklearn.ensemble import AdaBoostClassifier, GradientBoostingClassifier, ExtraTreesClassifier, VotingClassifier, RandomForestClassifier\n",
    "\n",
    "from sklearn.model_selection import train_test_split\n",
    "from sklearn.model_selection import GridSearchCV, cross_val_score, StratifiedKFold, learning_curve, KFold\n",
    "from sklearn.externals import joblib\n",
    "\n",
    "file_name = '../csv_data/data_164_1.csv'\n",
    "dataset = pd.read_csv(file_name)\n",
    "dataset.head()\n",
    "\n",
    "x = dataset.iloc[:,1:]\n",
    "y = dataset['category']\n",
    "x_train, x_test, y_train, y_test = train_test_split(x, y, test_size=0.2, random_state=1)\n",
    "print(x_train.shape)\n",
    "\n",
    "kfold = StratifiedKFold(n_splits=10)\n",
    "\n",
    "GBC_best = GradientBoostingClassifier(learning_rate=0.05, min_samples_leaf=3, n_estimators=700, max_features=4, max_depth=6)\n",
    "GBC_best.fit(x_train, y_train)\n",
    "\n",
    "LIST_err_idx = []\n",
    "y_pred = GBC_best.predict(x_test)\n",
    "correct_count = 0\n",
    "cnt = 0\n",
    "for t1, t2 in zip(y_test, y_pred):\n",
    "    # print type(t1),type(t2)\n",
    "    if t1 == t2:\n",
    "        correct_count += 1\n",
    "    else:\n",
    "        LIST_err_idx.append(y_test.index[cnt])\n",
    "        #print t1, t2\n",
    "    cnt += 1\n",
    "print(1.0 * correct_count / len(y_pred))\n",
    "print(LIST_err_idx)\n",
    "joblib.dump(GBC_best, './models/GBC_origin_164_1_py3.model')"
   ]
  },
  {
   "cell_type": "code",
   "execution_count": null,
   "metadata": {},
   "outputs": [],
   "source": []
  }
 ],
 "metadata": {
  "kernelspec": {
   "display_name": "keras",
   "language": "python",
   "name": "keras"
  },
  "language_info": {
   "codemirror_mode": {
    "name": "ipython",
    "version": 3
   },
   "file_extension": ".py",
   "mimetype": "text/x-python",
   "name": "python",
   "nbconvert_exporter": "python",
   "pygments_lexer": "ipython3",
   "version": "3.6.6"
  }
 },
 "nbformat": 4,
 "nbformat_minor": 2
}
